{
 "cells": [
  {
   "cell_type": "markdown",
   "metadata": {},
   "source": [
    "# **Notebook for Prompts (using Langchain, Outputparser, ...)**\n",
    "\n",
    "0 [Orchestrator](#Orchestrator)<br>\n",
    "\n",
    "1 [Database](#database)<br>\n",
    "1.1 [Database Dev](#database-dev) <br>\n",
    "1.2 [Database Test](#Database-Test) <br>\n",
    "1.3 [Database Doc](#Database-Doc) <br>\n",
    "\n",
    "2 [Backend](#Backend)<br>\n",
    "2.1 [Backend Dev](#Backend-Dev) <br>\n",
    "2.2 [Backend Test](#Backend-Test) <br>\n",
    "2.3 [Backend Doc](#Backend-Doc) <br>\n",
    "\n",
    "3 [Frontend](#Frontend)<br>\n",
    "3.1 [Frontend Dev](#Frontend-Dev) <br>\n",
    "3.2 [Frontend Test](#Frontend-Test) <br>\n",
    "3.3 [Frontend Doc](#Frontend-Doc) <br>"
   ]
  },
  {
   "cell_type": "code",
   "execution_count": 1,
   "metadata": {},
   "outputs": [],
   "source": [
    "import os\n",
    "from dotenv import load_dotenv, find_dotenv\n",
    "\n",
    "import openai\n",
    "from langchain.chat_models import ChatOpenAI\n",
    "from langchain.output_parsers import ResponseSchema\n",
    "from langchain.output_parsers import StructuredOutputParser\n",
    "from langchain.prompts import ChatPromptTemplate"
   ]
  },
  {
   "cell_type": "code",
   "execution_count": 2,
   "metadata": {},
   "outputs": [],
   "source": [
    "# _ = load_dotenv(find_dotenv()) # read local .env file\n",
    "\n",
    "# import warnings\n",
    "# warnings.filterwarnings('ignore')\n",
    "\n",
    "# llm_model = \"gpt-3.5-turbo\""
   ]
  },
  {
   "cell_type": "code",
   "execution_count": 3,
   "metadata": {},
   "outputs": [],
   "source": [
    "# def get_completion(prompt, model=llm_model):\n",
    "#     messages = [{\"role\": \"user\", \"content\": prompt}]\n",
    "#     response = openai.ChatCompletion.create(\n",
    "#         model=model,\n",
    "#         messages=messages,\n",
    "#         temperature=0, \n",
    "#     )\n",
    "#     return response.choices[0].message[\"content\"]\n",
    "\n",
    "# get_completion(\"Hi\",)"
   ]
  },
  {
   "cell_type": "code",
   "execution_count": 4,
   "metadata": {},
   "outputs": [],
   "source": [
    "# chat = ChatOpenAI(temperature=0.0, model=llm_model)\n",
    "# chat"
   ]
  },
  {
   "cell_type": "code",
   "execution_count": 5,
   "metadata": {},
   "outputs": [],
   "source": [
    "def read_txt(file_path):\n",
    "    \"\"\"\n",
    "    Reads text from a file located at 'file_path' and returns it as a string.\n",
    "\n",
    "    :param file_path: Path to the text file.\n",
    "    :return: String containing the contents of the file.\n",
    "    \"\"\"\n",
    "    try:\n",
    "        with open(file_path, 'r') as file:\n",
    "            return file.read()\n",
    "    except IOError:\n",
    "        return \"Error: File not found or cannot be read.\""
   ]
  },
  {
   "cell_type": "markdown",
   "metadata": {},
   "source": [
    "## **Orchestrator**"
   ]
  },
  {
   "cell_type": "code",
   "execution_count": 6,
   "metadata": {},
   "outputs": [],
   "source": [
    "user_prompt = \"\"\"Create a simple web-application that can be used to sign up for a newsletter. I have the following requirements:\n",
    "A database that stores the necessary information about the subscribers.\n",
    "An frontend that has a modern design, with a big red headline and short description of my newsletter in text form. \n",
    "All the necessary signup fields where someone can enter their data.\n",
    "A button that when pressed saves the data in the database.\n",
    "A popup message that confirms the successful entry.\"\"\""
   ]
  },
  {
   "cell_type": "code",
   "execution_count": 7,
   "metadata": {},
   "outputs": [],
   "source": [
    "# prompt components\n",
    "prompt_txt = read_txt('orchestrator.txt')\n",
    "orchestrator_schema_1 = ResponseSchema(name=\"orchestrator_db\",\n",
    "                             description=\"The tasks for the database\")\n",
    "orchestrator_schema_2 = ResponseSchema(name=\"orchestrator_be\",\n",
    "                             description=\"The tasks for the backend\")\n",
    "orchestrator_schema_3 = ResponseSchema(name=\"orchestrator_fe\",\n",
    "                             description=\"The tasks for the frontend\")\n",
    "\n",
    "# define ouput parser\n",
    "response_schemas = [orchestrator_schema_1,orchestrator_schema_2,orchestrator_schema_3]\n",
    "output_parser = StructuredOutputParser.from_response_schemas(response_schemas)\n",
    "format_instructions = output_parser.get_format_instructions()\n",
    "\n",
    "# make prompt \n",
    "prompt = ChatPromptTemplate.from_template(template=prompt_txt)\n",
    "orchestrator_prompt = prompt.format_messages(format_instructions=format_instructions,\n",
    "                                 user_prompt = user_prompt)"
   ]
  },
  {
   "cell_type": "code",
   "execution_count": 8,
   "metadata": {},
   "outputs": [
    {
     "name": "stdout",
     "output_type": "stream",
     "text": [
      "You are the manager of \"The Agentsy\" a software company that does full-stack web development for simple webpages. There are three other specialists in your company a database-engineer who develops database schemas, a backend-engineer who develops all the backend functionalities and a frontend engineer who develops the frontend.  You will be provided with a user request for a new website. Based on this information it is your task to create requirements for your engineers, so they can fulfill their job. \n",
      "\n",
      "Provide the following information:\n",
      "Overall task: a very short description what the user wants and what the overall task is\n",
      "Database: what the database needs to be capable of in general as well as what tables and fields are needed\n",
      "Backend: what kind of calls to the database need to be made\n",
      "Frontend: how the frontend should look and what functionalities there are\n",
      "\n",
      "Do not provide any additional output or comments.\n",
      "Now this is the request by the user:\n",
      "Create a simple web-application that can be used to sign up for a newsletter. I have the following requirements:\n",
      "A database that stores the necessary information about the subscribers.\n",
      "An frontend that has a modern design, with a big red headline and short description of my newsletter in text form. \n",
      "All the necessary signup fields where someone can enter their data.\n",
      "A button that when pressed saves the data in the database.\n",
      "A popup message that confirms the successful entry. \n",
      "\n",
      "The output should be a markdown code snippet formatted in the following schema, including the leading and trailing \"```json\" and \"```\":\n",
      "\n",
      "```json\n",
      "{\n",
      "\t\"orchestrator_db\": string  // The tasks for the database\n",
      "\t\"orchestrator_be\": string  // The tasks for the backend\n",
      "\t\"orchestrator_fe\": string  // The tasks for the frontend\n",
      "}\n",
      "```\n"
     ]
    }
   ],
   "source": [
    "orchestrator_prompt_str = orchestrator_prompt[0].content\n",
    "print(orchestrator_prompt_str)"
   ]
  },
  {
   "cell_type": "markdown",
   "metadata": {},
   "source": [
    "## **Database**"
   ]
  },
  {
   "cell_type": "markdown",
   "metadata": {},
   "source": [
    "### Database Dev"
   ]
  },
  {
   "cell_type": "code",
   "execution_count": 9,
   "metadata": {},
   "outputs": [],
   "source": [
    "# prompt components\n",
    "prompt_txt = read_txt('database_dev.txt')\n",
    "database_dev_schema_1 = ResponseSchema(name=\"code\",\n",
    "                             description=\"SQL Statements you wrote for the task.\")\n",
    "orchestrator_db = \"Schema for a newsletter signup page.\" # Example\n",
    "\n",
    "# define ouput parser\n",
    "response_schemas = [database_dev_schema_1]\n",
    "output_parser = StructuredOutputParser.from_response_schemas(response_schemas)\n",
    "format_instructions = output_parser.get_format_instructions()\n",
    "\n",
    "# make prompt \n",
    "prompt = ChatPromptTemplate.from_template(template=prompt_txt)\n",
    "database_dev_prompt = prompt.format_messages(format_instructions=format_instructions,\n",
    "                                 orchestrator_db = orchestrator_db)"
   ]
  },
  {
   "cell_type": "code",
   "execution_count": 10,
   "metadata": {},
   "outputs": [
    {
     "name": "stdout",
     "output_type": "stream",
     "text": [
      "You are a software developer specialized in databases. It is your responsibility to write correct and high quality SQL statements for different projects. You will be provided with several requirements your manager came up with based on some user request. It is now your task to provide the data definition language that fulfill these requirements. You should there for output the necessary SQL statements that create the tables for the database as well as any other SQL statements that are needed. These are the requirements:\n",
      "Schema for a newsletter signup page.\n",
      "The output should be a markdown code snippet formatted in the following schema, including the leading and trailing \"```json\" and \"```\":\n",
      "\n",
      "```json\n",
      "{\n",
      "\t\"code\": string  // SQL Statements you wrote for the task.\n",
      "}\n",
      "```\n",
      "Only output this, and put your generated code in the json. Do not output any additional comments.\n"
     ]
    }
   ],
   "source": [
    "database_dev_prompt_str = database_dev_prompt[0].content\n",
    "print(database_dev_prompt_str)"
   ]
  },
  {
   "cell_type": "code",
   "execution_count": 11,
   "metadata": {},
   "outputs": [],
   "source": [
    "# this is how a response would be parsed to get values\n",
    "# response = chat(database_dev_prompt)\n",
    "# output_dict = output_parser.parse(response.content)\n",
    "# output_dict[\"code\"]"
   ]
  },
  {
   "cell_type": "markdown",
   "metadata": {},
   "source": [
    "### Database Test"
   ]
  },
  {
   "cell_type": "code",
   "execution_count": 12,
   "metadata": {},
   "outputs": [],
   "source": [
    "# prompt components\n",
    "prompt_txt = read_txt('database_test.txt')\n",
    "database_test_schema_1 = ResponseSchema(name=\"revision_needed\",\n",
    "                                        description=\"Based on your evaluation, are there any errors that need to be fixed? Answer True if yes, False if no.\")\n",
    "database_test_schema_2 = ResponseSchema(name=\"feedback\",\n",
    "                                        description=\"Report with your analysis of the code.\")\n",
    "\n",
    "database_code = \"No code\"\n",
    "\n",
    "# define ouput parser\n",
    "response_schemas = [database_test_schema_1, database_test_schema_2]\n",
    "output_parser = StructuredOutputParser.from_response_schemas(response_schemas)\n",
    "format_instructions = output_parser.get_format_instructions()\n",
    "\n",
    "# make prompt \n",
    "prompt = ChatPromptTemplate.from_template(template=prompt_txt)\n",
    "database_test_prompt = prompt.format_messages(format_instructions=format_instructions,\n",
    "                                 database_code = database_code)"
   ]
  },
  {
   "cell_type": "code",
   "execution_count": 13,
   "metadata": {},
   "outputs": [
    {
     "name": "stdout",
     "output_type": "stream",
     "text": [
      "You are a software developer specialized in testing databases. It is your responsibility to check a database design and SQL statements for any errors. You will be provided with some SQL code. It is your task to validate this code an check for any mistakes such as syntax errors, data type mismatchs, missing or incorrect joins, unhandled NULL values, improperly formed queries, inefficient queries or any other errors you can think of. \n",
      "This is the SQL code you have to check:\n",
      "No code\n",
      "\n",
      "Based on this code write a report and point out any mistakes or errors you have found. Explain them and suggest how they could be corrected. Only point errors, mistakes or things that are incorrect do not talk about things that are well done. It is possible that there are no errors or bad practices.\n",
      "\n",
      "The output should be a markdown code snippet formatted in the following schema, including the leading and trailing \"```json\" and \"```\":\n",
      "\n",
      "```json\n",
      "{\n",
      "\t\"revision_needed\": string  // Based on your evaluation, are there any errors that need to be fixed? Answer True if yes, False if no.\n",
      "\t\"feedback\": string  // Report with your analysis of the code.\n",
      "}\n",
      "```\n",
      "\n"
     ]
    }
   ],
   "source": [
    "database_test_prompt_str = database_test_prompt[0].content\n",
    "print(database_test_prompt_str)"
   ]
  },
  {
   "cell_type": "markdown",
   "metadata": {},
   "source": [
    "### Database Doc"
   ]
  },
  {
   "cell_type": "code",
   "execution_count": 14,
   "metadata": {},
   "outputs": [],
   "source": [
    "# prompt components\n",
    "prompt_txt = read_txt('database_doc.txt')\n",
    "database_doc_schema_1 = ResponseSchema(name=\"documentation\",\n",
    "                                        description=\"The documentation of the code.\")\n",
    "\n",
    "database_code = \"No code\"\n",
    "\n",
    "# define ouput parser\n",
    "response_schemas = [database_doc_schema_1]\n",
    "output_parser = StructuredOutputParser.from_response_schemas(response_schemas)\n",
    "format_instructions = output_parser.get_format_instructions()\n",
    "\n",
    "# make prompt \n",
    "prompt = ChatPromptTemplate.from_template(template=prompt_txt)\n",
    "database_doc_prompt = prompt.format_messages(format_instructions=format_instructions,\n",
    "                                 database_code = database_code)"
   ]
  },
  {
   "cell_type": "code",
   "execution_count": 15,
   "metadata": {},
   "outputs": [
    {
     "name": "stdout",
     "output_type": "stream",
     "text": [
      "You are a specialist for writing a documentation for code. It is your responsibility to analyze some given code and write a short description, so that someone else can understand what functionalities there are. You will be provided with some SQL code that is used to create a database. It is your task to write a short documentation that describes what tables are created.\n",
      "This is the SQL code:\n",
      "No code\n",
      "\n",
      "The output should be a markdown code snippet formatted in the following schema, including the leading and trailing \"```json\" and \"```\":\n",
      "\n",
      "```json\n",
      "{\n",
      "\t\"documentation\": string  // The documentation of the code.\n",
      "}\n",
      "```\n"
     ]
    }
   ],
   "source": [
    "database_doc_prompt_str = database_doc_prompt[0].content\n",
    "print(database_doc_prompt_str)"
   ]
  },
  {
   "cell_type": "markdown",
   "metadata": {},
   "source": [
    "## **Backend**"
   ]
  },
  {
   "cell_type": "markdown",
   "metadata": {},
   "source": [
    "### Backend Dev"
   ]
  },
  {
   "cell_type": "code",
   "execution_count": 16,
   "metadata": {},
   "outputs": [],
   "source": [
    "# prompt components\n",
    "prompt_txt = read_txt('backend_dev.txt')\n",
    "backend_dev_schema_1 = ResponseSchema(name=\"code\",\n",
    "                             description=\"The code you wrote based on the described requirements.\")\n",
    "backend_dev_schema_2 = ResponseSchema(name=\"pip_packages\",\n",
    "                             description=\"The names of the pip packages that need to be installed. In a list.\")\n",
    "\n",
    "\n",
    "orchestrator_be = \"\"\n",
    "database_doc = \"\"\n",
    "\n",
    "# define ouput parser\n",
    "response_schemas = [backend_dev_schema_1, backend_dev_schema_2]\n",
    "output_parser = StructuredOutputParser.from_response_schemas(response_schemas)\n",
    "format_instructions = output_parser.get_format_instructions()\n",
    "\n",
    "# make prompt \n",
    "prompt = ChatPromptTemplate.from_template(template=prompt_txt)\n",
    "backend_dev_prompt = prompt.format_messages(format_instructions=format_instructions,\n",
    "                                 orchestrator_be = orchestrator_be,\n",
    "                                 database_doc = database_doc)"
   ]
  },
  {
   "cell_type": "code",
   "execution_count": 17,
   "metadata": {},
   "outputs": [
    {
     "name": "stdout",
     "output_type": "stream",
     "text": [
      "You are a software developer specialized in backend systems. It is your responsibility to write the python API calls that enable access to a database. You will be provided with some requirements by your manager and a description of an existing database. It is now your task to provide the code that enables read and write access to this database and fulfills the listed requirements. Use fastapi to do this and only provide the final code block.\n",
      "These are the requirements by your manager:\n",
      "\n",
      "\n",
      "This is the description of the database:\n",
      "\n",
      "\n",
      "The output should be a markdown code snippet formatted in the following schema, including the leading and trailing \"```json\" and \"```\":\n",
      "\n",
      "```json\n",
      "{\n",
      "\t\"code\": string  // The code you wrote based on the described requirements.\n",
      "\t\"pip_packages\": string  // The names of the pip packages that need to be installed. In a list.\n",
      "}\n",
      "```\n",
      "Only output this, and put your generated code in the json. Do not output any additional comments.\n"
     ]
    }
   ],
   "source": [
    "backend_dev_prompt_str = backend_dev_prompt[0].content\n",
    "print(backend_dev_prompt_str)"
   ]
  },
  {
   "cell_type": "markdown",
   "metadata": {},
   "source": [
    "### Backend Test"
   ]
  },
  {
   "cell_type": "code",
   "execution_count": 18,
   "metadata": {},
   "outputs": [],
   "source": [
    "# prompt components\n",
    "prompt_txt = read_txt('backend_test.txt')\n",
    "backend_test_schema_1 = ResponseSchema(name=\"revision_needed\",\n",
    "                                        description=\"Based on your evaluation, are there any errors that need to be fixed? Answer True if yes, False if no.\")\n",
    "backend_test_schema_2 = ResponseSchema(name=\"feedback\",\n",
    "                                        description=\"Report with your analysis of the code.\")\n",
    "\n",
    "backend_code = \"No code\"\n",
    "backend_logs = \"No errors\"\n",
    "\n",
    "# define ouput parser\n",
    "response_schemas = [backend_test_schema_1, backend_test_schema_2]\n",
    "output_parser = StructuredOutputParser.from_response_schemas(response_schemas)\n",
    "format_instructions = output_parser.get_format_instructions()\n",
    "\n",
    "# make prompt \n",
    "prompt = ChatPromptTemplate.from_template(template=prompt_txt)\n",
    "backend_test_prompt = prompt.format_messages(format_instructions=format_instructions,\n",
    "                                 backend_code = backend_code,\n",
    "                                 backend_logs = backend_logs)"
   ]
  },
  {
   "cell_type": "code",
   "execution_count": 19,
   "metadata": {},
   "outputs": [
    {
     "name": "stdout",
     "output_type": "stream",
     "text": [
      "You are a software developer specialized in testing backend systems and it is your responsibility to check code for errors or mistakes. You will be provided with some code that is used to interact with a database as well as some error logs if there are any. \n",
      "This is the code you have to check:\n",
      "No code\n",
      "\n",
      "These are the error logs:\n",
      "No errors\n",
      "\n",
      "Based on this code write a report and point out any mistakes or errors you have found. Explain them and suggest how they could be corrected. Only point errors, mistakes or things that are incorrect and do not talk about things that are well done. It is possible that there are no errors or bad practices in which case your report will be empty.\n",
      "The output should be a markdown code snippet formatted in the following schema, including the leading and trailing \"```json\" and \"```\":\n",
      "\n",
      "```json\n",
      "{\n",
      "\t\"revision_needed\": string  // Based on your evaluation, are there any errors that need to be fixed? Answer True if yes, False if no.\n",
      "\t\"feedback\": string  // Report with your analysis of the code.\n",
      "}\n",
      "```\n"
     ]
    }
   ],
   "source": [
    "backend_test_prompt_str = backend_test_prompt[0].content\n",
    "print(backend_test_prompt_str)"
   ]
  },
  {
   "cell_type": "markdown",
   "metadata": {},
   "source": [
    "### Backend Doc"
   ]
  },
  {
   "cell_type": "code",
   "execution_count": 20,
   "metadata": {},
   "outputs": [],
   "source": [
    "# prompt components\n",
    "prompt_txt = read_txt('backend_doc.txt')\n",
    "backend_doc_schema_1 = ResponseSchema(name=\"documentation\",\n",
    "                                        description=\"The documentation of the code.\")\n",
    "\n",
    "backend_code = \"No code\"\n",
    "\n",
    "# define ouput parser\n",
    "response_schemas = [database_doc_schema_1]\n",
    "output_parser = StructuredOutputParser.from_response_schemas(response_schemas)\n",
    "format_instructions = output_parser.get_format_instructions()\n",
    "\n",
    "# make prompt \n",
    "prompt = ChatPromptTemplate.from_template(template=prompt_txt)\n",
    "backend_doc_prompt = prompt.format_messages(format_instructions=format_instructions,\n",
    "                                 backend_code = backend_code)"
   ]
  },
  {
   "cell_type": "code",
   "execution_count": 21,
   "metadata": {},
   "outputs": [
    {
     "name": "stdout",
     "output_type": "stream",
     "text": [
      "You are a specialist for writing a documentation for code. It is your responsibility to analyze some given code and write a short description, so that someone else can understand what functionalities there are. You will be provided with some code that is used to access a database. It is your task to write a short documentation that describes what functions there are and what they are capable of. Explicitly point out what URL endpoints there are.\n",
      "This is the code:\n",
      "No code\n",
      "The output should be a markdown code snippet formatted in the following schema, including the leading and trailing \"```json\" and \"```\":\n",
      "\n",
      "```json\n",
      "{\n",
      "\t\"documentation\": string  // The documentation of the code.\n",
      "}\n",
      "```\n"
     ]
    }
   ],
   "source": [
    "backend_doc_prompt_str = backend_doc_prompt[0].content\n",
    "print(backend_doc_prompt_str)"
   ]
  },
  {
   "cell_type": "markdown",
   "metadata": {},
   "source": [
    "## **Frontend**"
   ]
  },
  {
   "cell_type": "markdown",
   "metadata": {},
   "source": [
    "### Frontend Dev"
   ]
  },
  {
   "cell_type": "code",
   "execution_count": 22,
   "metadata": {},
   "outputs": [],
   "source": [
    "# prompt components\n",
    "prompt_txt = read_txt('frontend_dev.txt')\n",
    "frontend_dev_schema_1 = ResponseSchema(name=\"html_code\",\n",
    "                             description=\"The html code you wrote.\")\n",
    "frontend_dev_schema_2 = ResponseSchema(name=\"css_code\",\n",
    "                             description=\"The css code you wrote.\")\n",
    "frontend_dev_schema_3 = ResponseSchema(name=\"js_code\",\n",
    "                             description=\"The javascript code you wrote.\")\n",
    "\n",
    "orchestrator_fe = \"Tasks für das Frontend\"\n",
    "backend_doc = \"Dokumentation des Backend\"\n",
    "\n",
    "# define ouput parser\n",
    "response_schemas = [frontend_dev_schema_1, frontend_dev_schema_2, frontend_dev_schema_3]\n",
    "output_parser = StructuredOutputParser.from_response_schemas(response_schemas)\n",
    "format_instructions = output_parser.get_format_instructions()\n",
    "\n",
    "# make prompt \n",
    "prompt = ChatPromptTemplate.from_template(template=prompt_txt)\n",
    "frontend_dev_prompt = prompt.format_messages(format_instructions=format_instructions,\n",
    "                                 orchestrator_fe = orchestrator_fe,\n",
    "                                 backend_doc = backend_doc)"
   ]
  },
  {
   "cell_type": "code",
   "execution_count": 23,
   "metadata": {},
   "outputs": [
    {
     "name": "stdout",
     "output_type": "stream",
     "text": [
      "You are a software developer specialized in frontend webpages. It is your responsibility to write the necessary code to display a webpage and perform certain funtionalities. You will be provided with some requirements by your manager and a description of the backend system. It is now your task to provide the html, css and javascript code that fufill the listed requirments.\n",
      "Tasks für das Frontend\n",
      "\n",
      "This is the description of the backend functionalities and endpoints you should use:\n",
      "Dokumentation des Backend\n",
      "\n",
      "The output should be a markdown code snippet formatted in the following schema, including the leading and trailing \"```json\" and \"```\":\n",
      "\n",
      "```json\n",
      "{\n",
      "\t\"html_code\": string  // The html code you wrote.\n",
      "\t\"css_code\": string  // The css code you wrote.\n",
      "\t\"js_code\": string  // The javascript code you wrote.\n",
      "}\n",
      "```\n",
      "Only output this, and put your generated code in the json. Do not output any additional comments.\n"
     ]
    }
   ],
   "source": [
    "frontend_dev_prompt_str = frontend_dev_prompt[0].content\n",
    "print(frontend_dev_prompt_str)"
   ]
  },
  {
   "cell_type": "markdown",
   "metadata": {},
   "source": [
    "### Frontend Test"
   ]
  },
  {
   "cell_type": "code",
   "execution_count": 24,
   "metadata": {},
   "outputs": [],
   "source": [
    "# prompt components\n",
    "prompt_txt = read_txt('frontend_test.txt')\n",
    "frontend_test_schema_1 = ResponseSchema(name=\"revision_needed\",\n",
    "                                        description=\"Based on your evaluation, are there any errors that need to be fixed? Answer True if yes, False if no.\")\n",
    "frontend_test_schema_2 = ResponseSchema(name=\"feedback\",\n",
    "                                        description=\"Report with your analysis of the code.\")\n",
    "\n",
    "frontend_code = \"No code\"\n",
    "frontend_logs = \"No errors\"\n",
    "\n",
    "# define ouput parser\n",
    "response_schemas = [frontend_test_schema_1, frontend_test_schema_2]\n",
    "output_parser = StructuredOutputParser.from_response_schemas(response_schemas)\n",
    "format_instructions = output_parser.get_format_instructions()\n",
    "\n",
    "# make prompt \n",
    "prompt = ChatPromptTemplate.from_template(template=prompt_txt)\n",
    "frontend_test_prompt = prompt.format_messages(format_instructions=format_instructions,\n",
    "                                 frontend_code = frontend_code,\n",
    "                                 frontend_logs = frontend_logs)"
   ]
  },
  {
   "cell_type": "code",
   "execution_count": 25,
   "metadata": {},
   "outputs": [
    {
     "name": "stdout",
     "output_type": "stream",
     "text": [
      "You are a software developer specialized in testing webpages and it is your responsibility to check code for errors or mistakes. You will be provided with some code that is used to create a simple webpage as well as some error logs if there are any. \n",
      "This is the code you have to check:\n",
      "No code\n",
      "\n",
      "These are the error logs:\n",
      "No errors\n",
      "\n",
      "Based on this code write a report and point out any mistakes or errors you have found. Explain them and suggest how they could be corrected. Only point errors, mistakes or things that are incorrect do not talk about things that are well done. It is possible that there are no errors or bad practices in this case the report is empty.\n",
      "\n",
      "The output should be a markdown code snippet formatted in the following schema, including the leading and trailing \"```json\" and \"```\":\n",
      "\n",
      "```json\n",
      "{\n",
      "\t\"revision_needed\": string  // Based on your evaluation, are there any errors that need to be fixed? Answer True if yes, False if no.\n",
      "\t\"feedback\": string  // Report with your analysis of the code.\n",
      "}\n",
      "```\n"
     ]
    }
   ],
   "source": [
    "frontend_test_prompt_str = frontend_test_prompt[0].content\n",
    "print(frontend_test_prompt_str)"
   ]
  },
  {
   "cell_type": "markdown",
   "metadata": {},
   "source": [
    "### Frontend Doc"
   ]
  },
  {
   "cell_type": "code",
   "execution_count": 26,
   "metadata": {},
   "outputs": [],
   "source": [
    "# prompt components\n",
    "prompt_txt = read_txt('frontend_doc.txt')\n",
    "frontend_doc_schema_1 = ResponseSchema(name=\"documentation\",\n",
    "                                        description=\"The documentation of the code.\")\n",
    "\n",
    "frontend_code = \"No code\"\n",
    "\n",
    "# define ouput parser\n",
    "response_schemas = [frontend_doc_schema_1]\n",
    "output_parser = StructuredOutputParser.from_response_schemas(response_schemas)\n",
    "format_instructions = output_parser.get_format_instructions()\n",
    "\n",
    "# make prompt \n",
    "prompt = ChatPromptTemplate.from_template(template=prompt_txt)\n",
    "frontend_doc_prompt = prompt.format_messages(format_instructions=format_instructions,\n",
    "                                 frontend_code = frontend_code)"
   ]
  },
  {
   "cell_type": "code",
   "execution_count": 27,
   "metadata": {},
   "outputs": [
    {
     "name": "stdout",
     "output_type": "stream",
     "text": [
      "You are a specialist for writing a documentation for code. It is your responsibility to analyze some given code and write a short description, so that someone else can understand what functionalities there are. You will be provided with some code that is used to create a webpage. It is your task to write a short documentation that describes what functions there are and what they are capable of.\n",
      "This is the code:\n",
      "No code\n",
      "\n",
      "The output should be a markdown code snippet formatted in the following schema, including the leading and trailing \"```json\" and \"```\":\n",
      "\n",
      "```json\n",
      "{\n",
      "\t\"documentation\": string  // The documentation of the code.\n",
      "}\n",
      "```\n"
     ]
    }
   ],
   "source": [
    "frontend_doc_prompt_str = frontend_doc_prompt[0].content\n",
    "print(frontend_doc_prompt_str)"
   ]
  },
  {
   "cell_type": "markdown",
   "metadata": {},
   "source": [
    "### More stuff"
   ]
  },
  {
   "cell_type": "code",
   "execution_count": 2,
   "metadata": {},
   "outputs": [],
   "source": [
    "from langchain.prompts import (\n",
    "    ChatPromptTemplate,\n",
    "    HumanMessagePromptTemplate,\n",
    "    MessagesPlaceholder,\n",
    "    SystemMessagePromptTemplate,\n",
    ")"
   ]
  },
  {
   "cell_type": "code",
   "execution_count": 4,
   "metadata": {},
   "outputs": [],
   "source": [
    "prompt = ChatPromptTemplate(\n",
    "            messages=[\n",
    "                SystemMessagePromptTemplate.from_template(\"self.character\"),\n",
    "                MessagesPlaceholder(variable_name=\"chat_history\"),\n",
    "                HumanMessagePromptTemplate.from_template(\"{message}\"),\n",
    "            ]\n",
    "        )"
   ]
  },
  {
   "cell_type": "code",
   "execution_count": 7,
   "metadata": {},
   "outputs": [
    {
     "data": {
      "text/plain": [
       "ChatPromptTemplate(input_variables=['chat_history', 'message'], input_types={'chat_history': typing.List[typing.Union[langchain_core.messages.ai.AIMessage, langchain_core.messages.human.HumanMessage, langchain_core.messages.chat.ChatMessage, langchain_core.messages.system.SystemMessage, langchain_core.messages.function.FunctionMessage, langchain_core.messages.tool.ToolMessage]]}, messages=[SystemMessagePromptTemplate(prompt=PromptTemplate(input_variables=[], template='self.character')), MessagesPlaceholder(variable_name='chat_history'), HumanMessagePromptTemplate(prompt=PromptTemplate(input_variables=['message'], template='{message}'))])"
      ]
     },
     "execution_count": 7,
     "metadata": {},
     "output_type": "execute_result"
    }
   ],
   "source": [
    "prompt"
   ]
  },
  {
   "cell_type": "code",
   "execution_count": 8,
   "metadata": {},
   "outputs": [
    {
     "name": "stdout",
     "output_type": "stream",
     "text": [
      "{\"key\": \"value\"}\n"
     ]
    }
   ],
   "source": [
    "def extract_section(input_string, section_type):\n",
    "    \"\"\"\n",
    "    Extracts a section from the input string that starts with ```<section_type>\n",
    "    and ends with ```\n",
    "\n",
    "    :param input_string: The string to parse\n",
    "    :param section_type: The type of section to extract (e.g., 'json', 'python')\n",
    "    :return: The extracted section or an empty string if not found\n",
    "    \"\"\"\n",
    "    start_marker = f\"```{section_type}\"\n",
    "    end_marker = \"```\"\n",
    "\n",
    "    start_index = input_string.find(start_marker)\n",
    "    if start_index == -1:\n",
    "        return \"\"  # Start marker not found\n",
    "\n",
    "    # Adjust start index to skip the marker itself\n",
    "    start_index += len(start_marker)\n",
    "\n",
    "    end_index = input_string.find(end_marker, start_index)\n",
    "    if end_index == -1:\n",
    "        return \"\"  # End marker not found\n",
    "\n",
    "    return input_string[start_index:end_index].strip()\n",
    "\n",
    "# Example usage:\n",
    "input_str = \"Here is some text ```json\\n{\\\"key\\\": \\\"value\\\"}\\n```\\nAnd some more text.\"\n",
    "section = extract_section(input_str, \"json\")\n",
    "print(section)\n"
   ]
  },
  {
   "cell_type": "code",
   "execution_count": 17,
   "metadata": {},
   "outputs": [
    {
     "name": "stdout",
     "output_type": "stream",
     "text": [
      "{\"key\": \"value\"}\n"
     ]
    }
   ],
   "source": [
    "import re\n",
    "\n",
    "def extract_code(input_string, language):\n",
    "    \"\"\"\n",
    "    Extracts a code section from the input string that starts with ```<language>\n",
    "    and ends with ```.\n",
    "    \n",
    "    :param input_string: The string to be parsed.\n",
    "    :param language: The language specifier (e.g. 'json', 'python').\n",
    "    :return: Extracted code section or an empty string if not found.\n",
    "    \"\"\"\n",
    "    pattern = f\"```{language}(.*?)```\"\n",
    "    match = re.search(pattern, input_string, re.DOTALL)\n",
    "\n",
    "    if match:\n",
    "        return match.group(1).strip()\n",
    "    else:\n",
    "        return \"\"\n",
    "    \n",
    "\n",
    "# Example usage:\n",
    "input_str = \"Here is some text ```json\\n{\\\"key\\\": \\\"value\\\"}\\n```\\nAnd some more text.\"\n",
    "section = extract_code(input_str, \"json\")\n",
    "print(section)"
   ]
  },
  {
   "cell_type": "code",
   "execution_count": 18,
   "metadata": {},
   "outputs": [
    {
     "name": "stdout",
     "output_type": "stream",
     "text": [
      "{\n",
      "  \"subscribers\": [\n",
      "    {\n",
      "      \"id\": 1,\n",
      "      \"name\": \"John\",\n",
      "      \"age\": 25,\n",
      "      \"email\": \"john@example.com\",\n",
      "      \"subscription_date\": \"2022-01-15\"\n",
      "    },\n",
      "    {\n",
      "      \"id\": 2,\n",
      "      \"name\": \"Alice\",\n",
      "      \"age\": 30,\n",
      "      \"email\": \"alice@example.com\",\n",
      "      \"subscription_date\": \"2022-02-20\"\n",
      "    }\n",
      "  ]\n",
      "}\n"
     ]
    }
   ],
   "source": [
    "# Example usage:\n",
    "input_str = \"\"\"Database Tester: The structure of the \"subscribers\" entity seems to be well-defined, with attributes for \"id\", \"name\", and \"age\" for each subscriber. However, it would be beneficial to include additional attributes such as \"email\", \"subscription_date\", or any other relevant information that might be associated with subscribers. This will provide a more comprehensive view of the subscribers and their details.\n",
    "Database Dev: ```json\n",
    "{\n",
    "  \"subscribers\": [\n",
    "    {\n",
    "      \"id\": 1,\n",
    "      \"name\": \"John\",\n",
    "      \"age\": 25,\n",
    "      \"email\": \"john@example.com\",\n",
    "      \"subscription_date\": \"2022-01-15\"\n",
    "    },\n",
    "    {\n",
    "      \"id\": 2,\n",
    "      \"name\": \"Alice\",\n",
    "      \"age\": 30,\n",
    "      \"email\": \"alice@example.com\",\n",
    "      \"subscription_date\": \"2022-02-20\"\n",
    "    }\n",
    "  ]\n",
    "}\n",
    "```\"\"\"\n",
    "section = extract_code(input_str, \"json\")\n",
    "print(section)"
   ]
  },
  {
   "cell_type": "code",
   "execution_count": null,
   "metadata": {},
   "outputs": [],
   "source": [
    "'The output should be a markdown code snippet formatted in the following schema, including the leading and trailing \"```sql\" and \"```\":'"
   ]
  },
  {
   "cell_type": "code",
   "execution_count": 14,
   "metadata": {},
   "outputs": [],
   "source": [
    "def output_format(language: str, code_only: bool) -> str:\n",
    "    \"\"\"\n",
    "    Generates a markdown code snippet with a specified programming language.\n",
    "\n",
    "    :param language: The language for the code snippet (e.g., 'python', 'javascript').\n",
    "    :param code_only: A boolean to force that only the code block is outputed.\n",
    "    :return: A string containing the formatted markdown code snippet.\n",
    "    \"\"\"\n",
    "    instructions = f'The output should be a markdown code snippet, starting with \"```{language}\" and ending with \"```\".'\n",
    "    if code_only:\n",
    "        force_code = 'Only output this markdown code snippet. Do not output any additional comments.'\n",
    "        return instructions+' '+force_code\n",
    "\n",
    "    return instructions"
   ]
  },
  {
   "cell_type": "code",
   "execution_count": 15,
   "metadata": {},
   "outputs": [
    {
     "data": {
      "text/plain": [
       "'The output should be a markdown code snippet, starting with \"```sql\" and ending with \"```\". Only output this markdown code snippet. Do not output any additional comments.'"
      ]
     },
     "execution_count": 15,
     "metadata": {},
     "output_type": "execute_result"
    }
   ],
   "source": [
    "output_format('sql', True)"
   ]
  }
 ],
 "metadata": {
  "kernelspec": {
   "display_name": "venv",
   "language": "python",
   "name": "python3"
  },
  "language_info": {
   "codemirror_mode": {
    "name": "ipython",
    "version": 3
   },
   "file_extension": ".py",
   "mimetype": "text/x-python",
   "name": "python",
   "nbconvert_exporter": "python",
   "pygments_lexer": "ipython3",
   "version": "3.10.0"
  }
 },
 "nbformat": 4,
 "nbformat_minor": 2
}
